{
 "cells": [
  {
   "cell_type": "code",
   "execution_count": 1,
   "metadata": {},
   "outputs": [
    {
     "name": "stdout",
     "output_type": "stream",
     "text": [
      "Inital path: /home/theoleyre/openwsn/notebook\n",
      "Temporary path: /tmp/openwsn-wqqUOlqYGI \n"
     ]
    }
   ],
   "source": [
    "import string\n",
    "import random\n",
    "import os \n",
    "import subprocess\n",
    "from subprocess import Popen, PIPE, STDOUT\n",
    "import sys\n",
    "import json, sys\n",
    "import multiprocessing\n",
    "import time\n",
    "import sys\n",
    "import signal\n",
    "\n",
    "#Paths\n",
    "path_initial = os.getcwd()\n",
    "print (\"Inital path: {0}\".format(path_initial))\n",
    "\n",
    "#Random suffix for tmp filenames\n",
    "letters = string.ascii_letters\n",
    "random_suffix = ''.join(random.choice(letters) for i in range(10))\n",
    "path_exp=\"/tmp/openwsn-\"+random_suffix\n",
    "os.mkdir(path_exp)\n",
    "print(\"Temporary path: {0} \".format(path_exp))"
   ]
  },
  {
   "cell_type": "code",
   "execution_count": 38,
   "metadata": {},
   "outputs": [
    {
     "name": "stdout",
     "output_type": "stream",
     "text": [
      "All variables / parameters initialization\n",
      "terminated\n"
     ]
    }
   ],
   "source": [
    "print(\"\\n\\n---------------------------------------------\")\n",
    "print(\"   All variables / parameters initialization\")\n",
    "print(\"---------------------------------------------\\n\\n\")\n",
    "\n",
    "# Metadata for experiments\n",
    "iotlab_user=\"theoleyr\"\n",
    "iotlab_exp_name=\"owsn-\" + random_suffix \n",
    "iotlab_exp_duration=\"180\"\n",
    "iotlab_resume_exp=True\n",
    "\n",
    "# Parameters of the experiment\n",
    "exp_board=\"iot-lab_M3\"\n",
    "exp_toolchain=\"armgcc\"\n",
    "exp_archi=\"m3\"\n",
    "exp_site=\"strasbourg\"\n",
    "exp_nodes_list=[ 60 , 64 ]\n",
    "exp_dagroots_list=[ 43 ]\n",
    "\n",
    "#openvisualizer configuration\n",
    "exp_logging_conf=path_initial + \"/loggers/logging.conf\"\n",
    "\n",
    "#Only in simulation mode!\n",
    "exp_nbnodes=\"5\"\n",
    "exp_topology=\"---load-topology \" + path_initial + \"/topologies/topology-3nodes.json\"\n",
    "#code (git repositories)\n",
    "code_sw_src=path_initial+\"/../openvisualizer/\"\n",
    "code_sw_gitversion=\"e039a05\"\n",
    "code_fw_src=path_initial+\"/../openwsn-fw/\"\n",
    "code_fw_gitversion=\"515eafa7\"\n",
    "code_fw_bin=code_fw_src+\"build/iot-lab_M3_armgcc/projects/common/03oos_openwsn_prog\"\n",
    "\n",
    "print(\".. finished\")"
   ]
  },
  {
   "cell_type": "code",
   "execution_count": 39,
   "metadata": {},
   "outputs": [
    {
     "name": "stdout",
     "output_type": "stream",
     "text": [
      "Tools for the script\n",
      "... terminated\n"
     ]
    }
   ],
   "source": [
    "print(\"\\n\\n---------------------------------------------\")\n",
    "print(\"    Toools (aux functions)\")\n",
    "print(\"---------------------------------------------\\n\\n\")\n",
    "\n",
    "\n",
    "#Run an extern command and returns the stdout\n",
    "def run_command(cmd, path):\n",
    "    process = Popen(cmd, preexec_fn=os.setpgrp, shell=True, stdin=None, stdout=PIPE, stderr=PIPE, close_fds=True, cwd=path, universal_newlines = True)\n",
    "    return(process)\n",
    "\n",
    "#Run an extern command and prints the stdout\n",
    "def run_command_print(cmd, path):\n",
    "    process = run_command(cmd,path)\n",
    " \n",
    "    #until the process is terminated (poll=none), get the stdout and stderr\n",
    "    while process.poll() is None:\n",
    "        out, err = process.communicate()\n",
    "        print(out)\n",
    "        print(err)\n",
    "    \n",
    "    #print the stdout asynchronously\n",
    "    #for line in process.stdout:\n",
    "    #    print(line.rstrip(\"\\n\"))\n",
    "    #for line in process.stderr:\n",
    "    #    print(line.rstrip(\"\\n\"))\n",
    "    \n",
    "\n",
    "    if (process.wait() != 0):\n",
    "        print(\"... Failure\")\n",
    "        exit(-5)\n",
    "    else:\n",
    "        print(\"... finished\")\n",
    "        \n",
    "print(\".. finished\")"
   ]
  },
  {
   "cell_type": "code",
   "execution_count": 40,
   "metadata": {},
   "outputs": [
    {
     "name": "stdout",
     "output_type": "stream",
     "text": [
      "Compilation of the firmware\n",
      "scons: Reading SConscript files ...\n",
      "\n",
      " ___                 _ _ _  ___  _ _ \n",
      "| . | ___  ___ ._ _ | | | |/ __>| \\ |\n",
      "| | || . \\/ ._>| ' || | | |\\__ \\|   |\n",
      "`___'|  _/\\___.|_|_||__/_/ <___/|_\\_|\n",
      "     |_|                  openwsn.org\n",
      "\n",
      "scons: done reading SConscript files.\n",
      "scons: Building targets ...\n",
      "arm-none-eabi-size --format=berkeley -d --totals build/iot-lab_M3_armgcc/projects/common/03oos_openwsn_prog\n",
      "   text\t   data\t    bss\t    dec\t    hex\tfilename\n",
      " 146348\t    208\t  65328\t 211884\t  33bac\tbuild/iot-lab_M3_armgcc/projects/common/03oos_openwsn_prog\n",
      " 146348\t    208\t  65328\t 211884\t  33bac\t(TOTALS)\n",
      "scons: done building targets.\n",
      "\n",
      "\n",
      "... finished\n",
      "...terminated\n"
     ]
    }
   ],
   "source": [
    "print(\"\\n\\n---------------------------------------------\")\n",
    "print(\"      Compilation\")\n",
    "print(\"---------------------------------------------\\n\\n\")\n",
    "\n",
    "#Compilation\n",
    "cmd=\"scons board=\" + exp_board + \" toolchain=\" + exp_toolchain + \" \" \n",
    "cmd=cmd +\" boardopt=printf modules=coap,udp apps=cjoin,cexample debugopt=CCA,schedule \"\n",
    "cmd=cmd + \" scheduleopt=anycast,lowestrankfirst \"\n",
    "badmaxrssi=\"100\"\n",
    "goodminrssi=\"100\"\n",
    "cmd=cmd + \" stackcfg=badmaxrssi:\"+badmaxrssi+\",goodminrssi:\"+goodminrssi + \" \"\n",
    "cmd=cmd + \" oos_openwsn \"\n",
    "run_command_print(cmd, code_fw_src)"
   ]
  },
  {
   "cell_type": "code",
   "execution_count": 41,
   "metadata": {},
   "outputs": [
    {
     "name": "stdout",
     "output_type": "stream",
     "text": [
      "Reserve an experiment\n",
      "The site of this already running experiment has been identified to strasbourg\n",
      "Running nodes:\n",
      "  -> m3-43.strasbourg.iot-lab.info\n",
      "  -> m3-64.strasbourg.iot-lab.info\n",
      "  -> m3-60.strasbourg.iot-lab.info\n",
      "Be careful: this list must be equal to:\n",
      "  -> dagroot(s): [43]\n",
      "  -> node(s): [60, 64]\n",
      "Experiment id running: 263395\n"
     ]
    }
   ],
   "source": [
    "print(\"\\n\\n---------------------------------------------\")\n",
    "print(\"      Reservation (experiment)\")\n",
    "print(\"---------------------------------------------\\n\\n\")\n",
    "\n",
    "\n",
    "# Let us resume an experiment (if one exists)\n",
    "if (iotlab_resume_exp == True):\n",
    "    cmd = 'iotlab-experiment get -e'\n",
    "    process = run_command(cmd, None) \n",
    "    output = process.stdout.read()\n",
    "    infos = json.loads(output)\n",
    "\n",
    "# pick the last (most recent) experiment\n",
    "try:\n",
    "    exp_id_running=infos[\"Running\"][-1]\n",
    "    \n",
    "    #Site identification (if the experiment is already running)\n",
    "    cmd=\"iotlab-experiment get -i \" + str(exp_id_running) + \" -n\"\n",
    "    process = run_command(cmd, None)\n",
    "    output = process.stdout.read()\n",
    "    \n",
    "    infos=json.loads(output)\n",
    "    exp_site=infos[\"items\"][0][\"site\"]\n",
    "    print(\"The site of this already running experiment has been identified to {0}\".format(exp_site))\n",
    "\n",
    "    #nodes identification \n",
    "    print(\"Running nodes:\")\n",
    "    for node in infos[\"items\"]:\n",
    "        print(\"  -> {0}\".format(node[\"network_address\"]))\n",
    "    print(\"Be careful: this list must be equal to:\")\n",
    "    print(\"  -> dagroot(s): {0}\".format(exp_dagroots_list))\n",
    "    print(\"  -> node(s): {0}\".format(exp_nodes_list))\n",
    "\n",
    "#no experiment has been found -> let us start a novel one\n",
    "except:\n",
    "    print(\"Start an experiment\")\n",
    "    exp_id_running=0\n",
    "    cmd= \"iotlab-experiment submit \" + \" -n \"+iotlab_exp_name + \" -d \"+ iotlab_exp_duration + \" -l \"+ exp_site + \",\" + exp_archi + \",\"\n",
    "    for i in range(len(exp_dagroots_list)):    \n",
    "        if ( i != 0 ):\n",
    "            cmd=cmd+\"+\"    \n",
    "        cmd= cmd + str(exp_dagroots_list[i])\n",
    "    for node in exp_nodes_list :\n",
    "        cmd= cmd + \"+\" + str(node)\n",
    "    \n",
    "    print(cmd)\n",
    "    process = run_command(cmd, None)\n",
    "    output = process.stdout.read()\n",
    "    print(output)\n",
    "    infos=json.loads(output)\n",
    "    exp_id_running=infos[\"id\"]    \n",
    "\n",
    "#id of the experiment (alreay running or just started)\n",
    "print(\"Experiment id running: {0}\".format(exp_id_running))     "
   ]
  },
  {
   "cell_type": "code",
   "execution_count": 42,
   "metadata": {},
   "outputs": [
    {
     "name": "stdout",
     "output_type": "stream",
     "text": [
      "Waiting running state\n",
      "iotlab-experiment wait -i 263395\n",
      "\"Running\"\n",
      "\n"
     ]
    }
   ],
   "source": [
    "print(\"\\n\\n---------------------------------------------\")\n",
    "print(\"      Waiting for a running exp\")\n",
    "print(\"---------------------------------------------\\n\\n\")\n",
    "\n",
    "# waiting for the running mode\n",
    "print(\"Waiting running state\")\n",
    "cmd=\"iotlab-experiment wait -i \"+ str(exp_id_running)\n",
    "print(cmd)\n",
    "process = run_command(cmd, None)\n",
    "output = process.stdout.read()\n",
    "print(output)    "
   ]
  },
  {
   "cell_type": "code",
   "execution_count": 43,
   "metadata": {},
   "outputs": [
    {
     "name": "stdout",
     "output_type": "stream",
     "text": [
      "Flashing motes...\n",
      "iotlab-node --flash /home/theoleyre/openwsn/notebook/../openwsn-fw/build/iot-lab_M3_armgcc/projects/common/03oos_openwsn_prog -i 263395\n",
      "m3-43.strasbourg.iot-lab.info: ok\n",
      "m3-60.strasbourg.iot-lab.info: ok\n",
      "m3-64.strasbourg.iot-lab.info: ok\n",
      ".. terminated\n"
     ]
    }
   ],
   "source": [
    "print(\"\\n\\n---------------------------------------------\")\n",
    "print(\"      Flashing\")\n",
    "print(\"---------------------------------------------\\n\\n\")\n",
    "\n",
    "#Flashing the devices\n",
    "cmd=\"iotlab-node --flash \" + code_fw_bin + \" -i \" + str(exp_id_running)\n",
    "print(cmd)\n",
    "process = run_command(cmd, None)\n",
    "output = process.stdout.read()\n",
    "infos=json.loads(output)\n",
    "ok=True\n",
    "if \"0\" in infos:\n",
    "    for info in infos[\"0\"]:\n",
    "        print(\"{0}: ok\".format(info))\n",
    "\n",
    "if \"1\" in infos:\n",
    "    for info in infos[\"1\"]:\n",
    "        print(\"{0}: ko\".format(info))\n",
    "        ok = False\n",
    "if ( ok == False ):\n",
    "    print(\"Some motes have not been flashed correctly, stop now\")\n",
    "    exit(6)\n",
    "\n",
    "print(\".. finished\")"
   ]
  },
  {
   "cell_type": "code",
   "execution_count": 44,
   "metadata": {},
   "outputs": [
    {
     "name": "stdout",
     "output_type": "stream",
     "text": [
      "Install the current version of Openvisualizer\n",
      "DEPRECATION: Python 2.7 reached the end of its life on January 1st, 2020. Please upgrade your Python as Python 2.7 is no longer maintained. pip 21.0 will drop support for Python 2.7 in January 2021. More details about Python 2 support in pip can be found at https://pip.pypa.io/en/latest/development/release-process/#python-2-support pip 21.0 will remove support for this functionality.\n",
      "\n",
      "Installation ok\n"
     ]
    }
   ],
   "source": [
    "print(\"\\n\\n---------------------------------------------\")\n",
    "print(\"      Openvisualizer installation\")\n",
    "print(\"---------------------------------------------\\n\\n\")\n",
    "\n",
    "\n",
    "#Install openvisualizer\n",
    "print(\"Install the current version of Openvisualizer\")\n",
    "cmd=\"sudo pip install -e .\"\n",
    "process = run_command(cmd, code_sw_src)\n",
    "output = process.stderr.read()\n",
    "print(output)\n",
    "if (process.wait() != 0):\n",
    "    print(\"Installation of openvisualizer has failed\")\n",
    "    exit(-7)\n",
    "else:\n",
    "    print(\"Installation ok\")"
   ]
  },
  {
   "cell_type": "code",
   "execution_count": 45,
   "metadata": {},
   "outputs": [
    {
     "name": "stdout",
     "output_type": "stream",
     "text": [
      "Configuration file ....\n",
      "... finished\n"
     ]
    }
   ],
   "source": [
    "print(\"\\n\\n---------------------------------------------\")\n",
    "print(\"      Configuration file (for logs)\")\n",
    "print(\"---------------------------------------------\\n\\n\")\n",
    "\n",
    "#construct the config file\n",
    "file=open(exp_logging_conf, 'w')\n",
    "print(\"Configuration file ....\")\n",
    "\n",
    "try:\n",
    "    os.mkdir(path_exp)\n",
    "except :\n",
    "    print(\"Directory {0} already exists\".format(path_exp+\"\"))\n",
    "    \n",
    "# constant beginning\n",
    "file_start=open(exp_logging_conf+\".start\", 'r')\n",
    "for line in file_start:\n",
    "    file.write(line)\n",
    "file_start.close()\n",
    "\n",
    "file.write(\"[handler_std]\\n\")\n",
    "file.write(\"class=logging.FileHandler\\n\")\n",
    "file.write(\"args=('\"+path_exp+\"/openv-server.log', 'w')\\n\")\n",
    "file.write(\"formatter=std\\n\\n\")\n",
    "\n",
    "file.write(\"[handler_errors]\\n\")\n",
    "file.write(\"class=logging.FileHandler\\n\")\n",
    "file.write(\"args=('\"+path_exp+\"/openv-server-errors.log', 'w')\\n\")\n",
    "file.write(\"level=ERROR\\n\")\n",
    "file.write(\"formatter=std\\n\\n\")\n",
    "\n",
    "file.write(\"[handler_success]\\n\")\n",
    "file.write(\"class=logging.FileHandler\\n\")\n",
    "file.write(\"args=('\"+path_exp+\"/openv-server-success.log', 'w')\\n\")\n",
    "file.write(\"level=SUCCESS\\n\")\n",
    "file.write(\"formatter=std\\n\\n\")\n",
    "\n",
    "file.write(\"[handler_info]\\n\")\n",
    "file.write(\"class=logging.FileHandler\\n\")\n",
    "file.write(\"args=('\"+path_exp+\"/openv-server-info.log', 'w')\\n\")\n",
    "file.write(\"level=INFO\\n\")\n",
    "file.write(\"formatter=std\\n\\n\")\n",
    "\n",
    "file.write(\"[handler_all]\\n\")\n",
    "file.write(\"class=logging.FileHandler\\n\")\n",
    "file.write(\"args=('\"+path_exp+\"/openv-server-all.log', 'w')\\n\")\n",
    "file.write(\"formatter=std\\n\\n\")\n",
    "\n",
    "file.write(\"[handler_html]\\n\")\n",
    "file.write(\"class=logging.FileHandler\\n\")\n",
    "file.write(\"args=('\"+path_exp+\"/openv-server-all.html.log', 'w')\\n\")\n",
    "file.write(\"formatter=console\\n\\n\")\n",
    "\n",
    "\n",
    "#constant end\n",
    "file_end=open(exp_logging_conf+\".end\", 'r')\n",
    "for line in file_end:\n",
    "    file.write(line)\n",
    "file_end.close()\n",
    "\n",
    "#end of the config file\n",
    "file.close()\n",
    "\n",
    "print(\"... finished\")"
   ]
  },
  {
   "cell_type": "code",
   "execution_count": 46,
   "metadata": {},
   "outputs": [
    {
     "name": "stdout",
     "output_type": "stream",
     "text": [
      "sudo openv-server --opentun --wireshark-debug --mqtt-broker 127.0.0.1 -d --fw-path /home/theoleyre/openwsn/openwsn-fw --lconf /home/theoleyre/openwsn/notebook/loggers/logging.conf --iotlab-motes m3-43.strasbourg.iot-lab.info m3-60.strasbourg.iot-lab.info m3-64.strasbourg.iot-lab.info \n",
      "Previous process: <Process(Process-3, stopped)>\n",
      "Running openvisualizer in a separated process\n",
      "Process <Process(Process-5, started)> started, pid 5326\n"
     ]
    }
   ],
   "source": [
    "print(\"\\n\\n---------------------------------------------\")\n",
    "print(\"      Openvisualizer (start)\")\n",
    "print(\"---------------------------------------------\\n\\n\")\n",
    "\n",
    "\n",
    "#construct the command with all the options for openvisualizer\n",
    "openvisualizer_options=\"--opentun --wireshark-debug --mqtt-broker 127.0.0.1 -d --fw-path /home/theoleyre/openwsn/openwsn-fw\"\n",
    "openvisualizer_options=openvisualizer_options+ \" --lconf \" + exp_logging_conf\n",
    "if ( exp_board == \"iot-lab_M3\" ):\n",
    "    cmd=\"sudo openv-server \" + openvisualizer_options + \" --iotlab-motes \"       \n",
    "    for i in range(len(exp_dagroots_list)):    \n",
    "        cmd=cmd + exp_archi + \"-\" + str(exp_dagroots_list[i]) + \".\" + exp_site + \".iot-lab.info \"\n",
    "    for i in range(len(exp_nodes_list)):    \n",
    "        cmd=cmd + exp_archi + \"-\" + str(exp_nodes_list[i]) + \".\" + exp_site + \".iot-lab.info \"\n",
    "    print(cmd)\n",
    "elif ( exp_board == \"python\" ):\n",
    "    cmd=\"sudo openv-server \" + openvisualizer_options + \" --sim \"+ exp_nb_nodes + \" \" + exp_topology\n",
    "\n",
    "# stops the previous process\n",
    "try:\n",
    "    print(\"Previous process: {0}\".format(process_openvisualizer))\n",
    "    process_openvisualizer.terminate()    \n",
    "except ValueError:\n",
    "    print(\"No running openvisualizer process\")\n",
    "except:\n",
    "    print(\"No running openvisualizer process, error {0}\".format(sys.exc_info()[0]))\n",
    "    \n",
    "#Running the OV application\n",
    "print(\"Running openvisualizer in a separated process\") \n",
    "process_openvisualizer = multiprocessing.Process(target=run_command_print, args=(cmd, code_sw_src, ))\n",
    "process_openvisualizer.start()\n",
    "print(\"Process {0} started, pid {1}\".format(process_openvisualizer, os.getpid()))\n"
   ]
  },
  {
   "cell_type": "code",
   "execution_count": 47,
   "metadata": {},
   "outputs": [
    {
     "name": "stdout",
     "output_type": "stream",
     "text": [
      "Openvisualizer seems correctly running\n"
     ]
    }
   ],
   "source": [
    "#wait that openvizualizer is properly initiated\n",
    "cmd=\"openv-client motes\"\n",
    "while True:\n",
    "    process = run_command(cmd, None)\n",
    "    output = process.stdout.read()\n",
    "    if \"Connection refused\" not in output:\n",
    "        break\n",
    "    #wait 2 seconds before trying to connect to the server\n",
    "    time.sleep(2)\n",
    "print(\"Openvisualizer seems correctly running\")"
   ]
  },
  {
   "cell_type": "code",
   "execution_count": 56,
   "metadata": {},
   "outputs": [
    {
     "name": "stdout",
     "output_type": "stream",
     "text": [
      "openv-client view web --debug ERROR\n",
      "Running openweb client in a separated process\n",
      "Process <Process(Process-5, started)> started, pid 5326\n",
      "\n",
      "Traceback (most recent call last):\n",
      "  File \"/usr/local/bin/openv-client\", line 11, in <module>\n",
      "    load_entry_point('openvisualizer', 'console_scripts', 'openv-client')()\n",
      "  File \"/usr/local/lib/python2.7/dist-packages/click/core.py\", line 829, in __call__\n",
      "    return self.main(*args, **kwargs)\n",
      "  File \"/usr/local/lib/python2.7/dist-packages/click/core.py\", line 782, in main\n",
      "    rv = self.invoke(ctx)\n",
      "  File \"/usr/local/lib/python2.7/dist-packages/click/core.py\", line 1259, in invoke\n",
      "    return _process_result(sub_ctx.command.invoke(sub_ctx))\n",
      "  File \"/usr/local/lib/python2.7/dist-packages/click/core.py\", line 1259, in invoke\n",
      "    return _process_result(sub_ctx.command.invoke(sub_ctx))\n",
      "  File \"/usr/local/lib/python2.7/dist-packages/click/core.py\", line 1066, in invoke\n",
      "    return ctx.invoke(self.callback, **ctx.params)\n",
      "  File \"/usr/local/lib/python2.7/dist-packages/click/core.py\", line 610, in invoke\n",
      "    return callback(*args, **kwargs)\n",
      "  File \"/home/theoleyre/openwsn/openvisualizer/openvisualizer/client/main.py\", line 197, in web\n",
      "    bottle_server.run(host=web_host, port=web_port, quiet=True)\n",
      "  File \"/usr/local/lib/python2.7/dist-packages/bottle.py\", line 624, in run\n",
      "    run(self, **kwargs)\n",
      "  File \"/usr/local/lib/python2.7/dist-packages/bottle.py\", line 2703, in run\n",
      "    server.run(app)\n",
      "  File \"/usr/local/lib/python2.7/dist-packages/bottle.py\", line 2385, in run\n",
      "    srv = make_server(self.host, self.port, handler, **self.options)\n",
      "  File \"/usr/lib/python2.7/wsgiref/simple_server.py\", line 151, in make_server\n",
      "    server = server_class((host, port), handler_class)\n",
      "  File \"/usr/lib/python2.7/SocketServer.py\", line 420, in __init__\n",
      "    self.server_bind()\n",
      "  File \"/usr/lib/python2.7/wsgiref/simple_server.py\", line 48, in server_bind\n",
      "    HTTPServer.server_bind(self)\n",
      "  File \"/usr/lib/python2.7/BaseHTTPServer.py\", line 108, in server_bind\n",
      "    SocketServer.TCPServer.server_bind(self)\n",
      "  File \"/usr/lib/python2.7/SocketServer.py\", line 434, in server_bind\n",
      "    self.socket.bind(self.server_address)\n",
      "  File \"/usr/lib/python2.7/socket.py\", line 228, in meth\n",
      "    return getattr(self._sock,name)(*args)\n",
      "socket.error: [Errno 98] Address already in use\n",
      "\n",
      "... Failure\n"
     ]
    }
   ],
   "source": [
    "print(\"\\n\\n---------------------------------------------\")\n",
    "print(\"      Web client\")\n",
    "print(\"---------------------------------------------\\n\\n\")\n",
    "\n",
    "\n",
    "#start the web client part \n",
    "cmd=\"openv-client view web --debug ERROR\"\n",
    "print(cmd)\n",
    "print(\"Running openweb client in a separated process\") \n",
    "process_openwebclient = multiprocessing.Process(target=run_command_print, args=(cmd, code_sw_src, ))\n",
    "process_openwebclient.start()\n",
    "print(\"Process {0} started, pid {1}\".format(process_openvisualizer, os.getpid()))\n"
   ]
  },
  {
   "cell_type": "code",
   "execution_count": 48,
   "metadata": {},
   "outputs": [
    {
     "name": "stdout",
     "output_type": "stream",
     "text": [
      "Boot all the motes\n",
      "openv-client root m3-43.strasbourg.iot-lab.info\n",
      "Ok!\n",
      "\n",
      "\n",
      "... finished\n",
      "...finished\n"
     ]
    }
   ],
   "source": [
    "print(\"\\n\\n---------------------------------------------\")\n",
    "print(\"      Boot motes\")\n",
    "print(\"---------------------------------------------\\n\\n\")\n",
    "\n",
    "#reboot all the motes (if some have been already selected dagroot for an unkwnon reason)\n",
    "print(\"Boot all the motes\")\n",
    "if ( exp_board == \"iot-lab_M3\" ):\n",
    "    for node in exp_dagroots_list:\n",
    "        cmd=\"openv-client root m3-\" + str(node) +  \".\" + exp_site + \".iot-lab.info\"\n",
    "        print(cmd)\n",
    "        process = run_command_print(cmd, None)\n",
    "\n",
    "print(\"...finished\")\n"
   ]
  },
  {
   "cell_type": "code",
   "execution_count": 55,
   "metadata": {},
   "outputs": [
    {
     "name": "stdout",
     "output_type": "stream",
     "text": [
      "openv-client root m3-43.strasbourg.iot-lab.info\n",
      "Ok!\n",
      "\n"
     ]
    }
   ],
   "source": [
    "print(\"\\n\\n---------------------------------------------\")\n",
    "print(\"      Dagroot activation\")\n",
    "print(\"---------------------------------------------\\n\\n\")\n",
    "\n",
    "# Configuration: dagroot\n",
    "if ( exp_board == \"iot-lab_M3\" ):\n",
    "    for node in exp_dagroots_list:\n",
    "        cmd=\"openv-client root m3-\" + str(node) +  \".\" + exp_site + \".iot-lab.info\"\n",
    "        print(cmd)\n",
    "        process = run_command(cmd, None)\n",
    "        output = process.stdout.read()\n",
    "        print(output)\n",
    "        if \"Ok\"  not in output:\n",
    "            print(\"Error when setting up the dagroot {0}\".format(node))"
   ]
  },
  {
   "cell_type": "code",
   "execution_count": 53,
   "metadata": {},
   "outputs": [
    {
     "name": "stdout",
     "output_type": "stream",
     "text": [
      "Wait for the end of the experiment\n",
      "Killing openvisualizer and openweb\n",
      "6300\n",
      "<Process(Process-6, started)>\n"
     ]
    },
    {
     "ename": "AttributeError",
     "evalue": "'Process' object has no attribute 'send_signal'",
     "output_type": "error",
     "traceback": [
      "\u001b[0;31m---------------------------------------------------------------------------\u001b[0m",
      "\u001b[0;31mAttributeError\u001b[0m                            Traceback (most recent call last)",
      "\u001b[0;32m<ipython-input-53-fd9d665286bd>\u001b[0m in \u001b[0;36m<module>\u001b[0;34m()\u001b[0m\n\u001b[1;32m      6\u001b[0m \u001b[0;32mprint\u001b[0m\u001b[0;34m(\u001b[0m\u001b[0mprocess_openwebclient\u001b[0m\u001b[0;34m)\u001b[0m\u001b[0;34m\u001b[0m\u001b[0m\n\u001b[1;32m      7\u001b[0m \u001b[0;34m\u001b[0m\u001b[0m\n\u001b[0;32m----> 8\u001b[0;31m \u001b[0mprocess_openwebclient\u001b[0m\u001b[0;34m.\u001b[0m\u001b[0msend_signal\u001b[0m\u001b[0;34m(\u001b[0m\u001b[0msignal\u001b[0m\u001b[0;34m.\u001b[0m\u001b[0mSIGBREAK\u001b[0m\u001b[0;34m)\u001b[0m\u001b[0;34m\u001b[0m\u001b[0m\n\u001b[0m\u001b[1;32m      9\u001b[0m \u001b[0mprocess_openvisualizer\u001b[0m\u001b[0;34m.\u001b[0m\u001b[0msend_signal\u001b[0m\u001b[0;34m(\u001b[0m\u001b[0msignal\u001b[0m\u001b[0;34m.\u001b[0m\u001b[0mSIGBREAK\u001b[0m\u001b[0;34m)\u001b[0m\u001b[0;34m\u001b[0m\u001b[0m\n\u001b[1;32m     10\u001b[0m \u001b[0;34m\u001b[0m\u001b[0m\n",
      "\u001b[0;31mAttributeError\u001b[0m: 'Process' object has no attribute 'send_signal'"
     ]
    }
   ],
   "source": [
    "print(\"\\n\\n---------------------------------------------\")\n",
    "print(\"      Execution\")\n",
    "print(\"---------------------------------------------\\n\\n\")\n",
    "\n",
    "print(\"Wait for the end of the experiment\")\n",
    "time.sleep(20)\n",
    "\n"
   ]
  },
  {
   "cell_type": "code",
   "execution_count": null,
   "metadata": {},
   "outputs": [],
   "source": [
    "print(\"\\n\\n---------------------------------------------\")\n",
    "print(\"      End of the experiment\")\n",
    "print(\"---------------------------------------------\\n\\n\")\n",
    "\n",
    "print(\"Killing openvisualizer and openweb\")\n",
    "\n",
    "os.killpg(os.getpgid(os.getpid()), signal.SIGINT) \n",
    "\n",
    "#os.kill(process_openwebclient.p, signal.SIGTERM)\n",
    "#os.kill(process_openvisualizer.p, signal.SIGTERM)\n",
    "\n",
    "print(\"experiment finished\")"
   ]
  },
  {
   "cell_type": "code",
   "execution_count": null,
   "metadata": {},
   "outputs": [],
   "source": [
    "print(\"\\n\\n---------------------------------------------\")\n",
    "print(\"      Cleanup\")\n",
    "print(\"---------------------------------------------\\n\\n\")\n",
    "\n",
    "print(\"still needs to move the tmp files + the configuration, parameters, etc.\")"
   ]
  },
  {
   "cell_type": "code",
   "execution_count": null,
   "metadata": {},
   "outputs": [],
   "source": []
  }
 ],
 "metadata": {
  "kernelspec": {
   "display_name": "Python 3",
   "language": "python",
   "name": "python3"
  },
  "language_info": {
   "codemirror_mode": {
    "name": "ipython",
    "version": 2
   },
   "file_extension": ".py",
   "mimetype": "text/x-python",
   "name": "python",
   "nbconvert_exporter": "python",
   "pygments_lexer": "ipython2",
   "version": "2.7.18"
  }
 },
 "nbformat": 4,
 "nbformat_minor": 2
}
