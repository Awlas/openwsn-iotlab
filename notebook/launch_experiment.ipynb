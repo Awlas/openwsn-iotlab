{
 "cells": [
  {
   "cell_type": "code",
   "execution_count": 1,
   "metadata": {},
   "outputs": [
    {
     "name": "stdout",
     "output_type": "stream",
     "text": [
      "Inital path: /home/theoleyre/openwsn/notebook\n",
      "Temporary path: /tmp/openwsn-OsnDOpYQhi \n"
     ]
    }
   ],
   "source": [
    "import string\n",
    "import random\n",
    "import os \n",
    "import subprocess\n",
    "from subprocess import Popen, PIPE, STDOUT\n",
    "import sys\n",
    "import json, sys\n",
    "import multiprocessing\n",
    "import time\n",
    "import sys\n",
    "\n",
    "#Paths\n",
    "path_initial = os.getcwd()\n",
    "print (\"Inital path: {0}\".format(path_initial))\n",
    "\n",
    "#Random suffix for tmp filenames\n",
    "letters = string.ascii_letters\n",
    "random_suffix = ''.join(random.choice(letters) for i in range(10))\n",
    "path_exp=\"/tmp/openwsn-\"+random_suffix\n",
    "os.mkdir(path_exp)\n",
    "print(\"Temporary path: {0} \".format(path_exp))"
   ]
  },
  {
   "cell_type": "code",
   "execution_count": 2,
   "metadata": {},
   "outputs": [
    {
     "name": "stdout",
     "output_type": "stream",
     "text": [
      "All vairables initialized\n"
     ]
    }
   ],
   "source": [
    "# Metadata for experiments\n",
    "iotlab_user=\"theoleyr\"\n",
    "iotlab_exp_name=\"owsn-\" + random_suffix \n",
    "iotlab_exp_duration=\"180\"\n",
    "iotlab_resume_exp=True\n",
    "\n",
    "# Parameters of the experiment\n",
    "exp_board=\"iot-lab_M3\"\n",
    "exp_toolchain=\"armgcc\"\n",
    "exp_archi=\"m3\"\n",
    "exp_site=\"grenoble\"\n",
    "exp_nodes_list=[ 213 , 223 ]\n",
    "exp_dagroots_list=[ 204 ]\n",
    "\n",
    "#openvisualizer configuration\n",
    "exp_logging_conf=path_initial + \"/loggers/logging.conf\"\n",
    "\n",
    "#Only in simulation mode!\n",
    "exp_nbnodes=\"5\"\n",
    "exp_topology=\"---load-topology \" + path_initial + \"/topologies/topology-3nodes.json\"\n",
    "#code (git repositories)\n",
    "code_sw_src=path_initial+\"/../openvisualizer/\"\n",
    "code_sw_gitversion=\"e039a05\"\n",
    "code_fw_src=path_initial+\"/../openwsn-fw/\"\n",
    "code_fw_gitversion=\"515eafa7\"\n",
    "code_fw_bin=code_fw_src+\"build/iot-lab_M3_armgcc/projects/common/03oos_openwsn_prog\"\n",
    "\n",
    "print(\"All vairables initialized\")"
   ]
  },
  {
   "cell_type": "code",
   "execution_count": 3,
   "metadata": {},
   "outputs": [
    {
     "name": "stdout",
     "output_type": "stream",
     "text": [
      "Tools terminated\n"
     ]
    }
   ],
   "source": [
    "#tools\n",
    "\n",
    "#Run an extern command\n",
    "def run_command(cmd, path):\n",
    "    process = Popen(cmd, shell=True, stdin=None, stdout=PIPE, stderr=STDOUT, close_fds=True, cwd=path)\n",
    "\n",
    "    #print the stdout asynchronously\n",
    "    for line in process.stdout:\n",
    "        print(line.rstrip(\"\\n\"))\n",
    "  \n",
    "    if (process.wait() != 0):\n",
    "        print(\"... Failure\")\n",
    "        exit(-5)\n",
    "    else:\n",
    "        print(\"... finished\")\n",
    "        \n",
    "#keep all the threads\n",
    "threads = list()\n",
    "\n",
    "print(\"Tools terminated\")"
   ]
  },
  {
   "cell_type": "code",
   "execution_count": 4,
   "metadata": {},
   "outputs": [
    {
     "name": "stdout",
     "output_type": "stream",
     "text": [
      "Compilation.....scons: Reading SConscript files ...\n",
      "\n",
      " ___                 _ _ _  ___  _ _ \n",
      "| . | ___  ___ ._ _ | | | |/ __>| \\ |\n",
      "| | || . \\/ ._>| ' || | | |\\__ \\|   |\n",
      "`___'|  _/\\___.|_|_||__/_/ <___/|_\\_|\n",
      "     |_|                  openwsn.org\n",
      "\n",
      "scons: done reading SConscript files.\n",
      "scons: Building targets ...\n",
      "arm-none-eabi-size --format=berkeley -d --totals build/iot-lab_M3_armgcc/projects/common/03oos_openwsn_prog\n",
      "   text\t   data\t    bss\t    dec\t    hex\tfilename\n",
      " 146348\t    208\t  65328\t 211884\t  33bac\tbuild/iot-lab_M3_armgcc/projects/common/03oos_openwsn_prog\n",
      " 146348\t    208\t  65328\t 211884\t  33bac\t(TOTALS)\n",
      "scons: done building targets.\n",
      "... finished\n"
     ]
    }
   ],
   "source": [
    "#Compilation\n",
    "\n",
    "cmd=\"scons board=\" + exp_board + \" toolchain=\" + exp_toolchain + \" \" \n",
    "cmd=cmd +\" boardopt=printf modules=coap,udp apps=cjoin,cexample debugopt=CCA,schedule \"\n",
    "cmd=cmd + \" scheduleopt=anycast,lowestrankfirst \"\n",
    "badmaxrssi=\"100\"\n",
    "goodminrssi=\"100\"\n",
    "cmd=cmd + \" stackcfg=badmaxrssi:\"+badmaxrssi+\",goodminrssi:\"+goodminrssi + \" \"\n",
    "cmd=cmd + \" oos_openwsn \"\n",
    "#process = Popen(cmd, shell=True, stdin=PIPE, stdout=PIPE, stderr=STDOUT, close_fds=True, cwd=code_fw_src)\n",
    "#output = process.stdout.read()\n",
    "#print(output)\n",
    "sys.stdout.write('Compilation.....')\n",
    "sys.stdout.flush()\n",
    "run_command(cmd, code_fw_src)"
   ]
  },
  {
   "cell_type": "code",
   "execution_count": 5,
   "metadata": {},
   "outputs": [
    {
     "name": "stdout",
     "output_type": "stream",
     "text": [
      "The site of this already running experiment has been identified to grenoble\n",
      "Running nodes:\n",
      "  -> m3-213.grenoble.iot-lab.info\n",
      "  -> m3-223.grenoble.iot-lab.info\n",
      "  -> m3-204.grenoble.iot-lab.info\n",
      "Be careful: this list must be equal to:\n",
      "  -> dagroot(s): [204]\n",
      "  -> node(s): [213, 223]\n",
      "Experiment id running: 262988\n"
     ]
    }
   ],
   "source": [
    "# Let us resume an experiment (if one exists)\n",
    "if (iotlab_resume_exp == True):\n",
    "    cmd = 'iotlab-experiment get -e'\n",
    "    process = Popen(cmd, shell=True, stdin=PIPE, stdout=PIPE, stderr=STDOUT, close_fds=True)\n",
    "    output = process.stdout.read()\n",
    "    infos = json.loads(output)\n",
    "\n",
    "# pick the last (most recent) experiment\n",
    "try:\n",
    "    exp_id_running=infos[\"Running\"][-1]\n",
    "    \n",
    "    #Site identification (if the experiment is already running)\n",
    "    cmd=\"iotlab-experiment get -i \" + str(exp_id_running) + \" -n\"\n",
    "    process = Popen(cmd, shell=True, stdin=PIPE, stdout=PIPE, stderr=STDOUT, close_fds=True)\n",
    "    output = process.stdout.read()\n",
    "    \n",
    "    infos=json.loads(output)\n",
    "    exp_site=infos[\"items\"][0][\"site\"]\n",
    "    print(\"The site of this already running experiment has been identified to {0}\".format(exp_site))\n",
    "\n",
    "    #nodes identification \n",
    "    print(\"Running nodes:\")\n",
    "    for node in infos[\"items\"]:\n",
    "        print(\"  -> {0}\".format(node[\"network_address\"]))\n",
    "    print(\"Be careful: this list must be equal to:\")\n",
    "    print(\"  -> dagroot(s): {0}\".format(exp_dagroots_list))\n",
    "    print(\"  -> node(s): {0}\".format(exp_nodes_list))\n",
    "\n",
    "#no experiment has been found -> let us start a novel one\n",
    "except:\n",
    "    print(\"Start an experiment\")\n",
    "    exp_id_running=0\n",
    "    cmd= \"iotlab-experiment submit \" + \" -n \"+iotlab_exp_name + \" -d \"+ iotlab_exp_duration + \" -l \"+ exp_site + \",\" + exp_archi + \",\"\n",
    "    for i in range(len(exp_dagroots_list)):    \n",
    "        if ( i != 0 ):\n",
    "            cmd=cmd+\"+\"    \n",
    "        cmd= cmd + str(exp_dagroots_list[i])\n",
    "    for node in exp_nodes_list :\n",
    "        cmd= cmd + \"+\" + str(node)\n",
    "    \n",
    "    print(cmd)\n",
    "    process = Popen(cmd, shell=True, stdin=PIPE, stdout=PIPE, stderr=STDOUT, close_fds=True)\n",
    "    output = process.stdout.read()\n",
    "    print(output)\n",
    "    infos=json.loads(output)\n",
    "    exp_id_running=infos[\"id\"]    \n",
    "\n",
    "#id of the experiment (alreay running or just started)\n",
    "print(\"Experiment id running: {0}\".format(exp_id_running))     "
   ]
  },
  {
   "cell_type": "code",
   "execution_count": 6,
   "metadata": {},
   "outputs": [
    {
     "name": "stdout",
     "output_type": "stream",
     "text": [
      "Waiting that experiment 262988 gets in state Running\n",
      "\"Running\"\n",
      "\n"
     ]
    }
   ],
   "source": [
    "# waiting for the running mode\n",
    "cmd=\"iotlab-experiment wait -i \"+ str(exp_id_running)\n",
    "process = Popen(cmd, shell=True, stdin=PIPE, stdout=PIPE, stderr=STDOUT, close_fds=True)\n",
    "output = process.stdout.read()\n",
    "print(output)    "
   ]
  },
  {
   "cell_type": "code",
   "execution_count": 7,
   "metadata": {},
   "outputs": [
    {
     "name": "stdout",
     "output_type": "stream",
     "text": [
      "Flashing motes...\n",
      "iotlab-node --flash /home/theoleyre/openwsn/notebook/../openwsn-fw/build/iot-lab_M3_armgcc/projects/common/03oos_openwsn_prog -i 262988\n",
      "m3-204.grenoble.iot-lab.info: ok\n",
      "m3-213.grenoble.iot-lab.info: ok\n",
      "m3-223.grenoble.iot-lab.info: ok\n",
      ".. terminated\n"
     ]
    }
   ],
   "source": [
    "#Flashing the devices\n",
    "print(\"Flashing motes...\")\n",
    "cmd=\"iotlab-node --flash \" + code_fw_bin + \" -i \" + str(exp_id_running)\n",
    "print(cmd)\n",
    "process = Popen(cmd, shell=True, stdin=PIPE, stdout=PIPE, stderr=STDOUT, close_fds=True)\n",
    "output = process.stdout.read()\n",
    "infos=json.loads(output)\n",
    "ok=True\n",
    "if \"0\" in infos:\n",
    "    for info in infos[\"0\"]:\n",
    "        print(\"{0}: ok\".format(info))\n",
    "\n",
    "if \"1\" in infos:\n",
    "    for info in infos[\"1\"]:\n",
    "        print(\"{0}: ko\".format(info))\n",
    "        ok = False\n",
    "if ( ok == False ):\n",
    "    print(\"Some motes have not been flashed correctly, stop now\")\n",
    "    exit(6)\n",
    "\n",
    "print(\".. terminated\")"
   ]
  },
  {
   "cell_type": "code",
   "execution_count": 8,
   "metadata": {},
   "outputs": [
    {
     "name": "stdout",
     "output_type": "stream",
     "text": [
      "Install the current version of Openvisualizer\n",
      "DEPRECATION: Python 2.7 reached the end of its life on January 1st, 2020. Please upgrade your Python as Python 2.7 is no longer maintained. pip 21.0 will drop support for Python 2.7 in January 2021. More details about Python 2 support in pip can be found at https://pip.pypa.io/en/latest/development/release-process/#python-2-support pip 21.0 will remove support for this functionality.\n",
      "\n",
      "Installation ok\n"
     ]
    }
   ],
   "source": [
    "#Install openvisualizer\n",
    "print(\"Install the current version of Openvisualizer\")\n",
    "cmd=\"sudo pip install -e .\"\n",
    "process = Popen(cmd, shell=True, stdin=None, stdout=None, stderr=PIPE, close_fds=True, cwd=code_sw_src)\n",
    "output = process.stderr.read()\n",
    "print(output)\n",
    "if (process.wait() != 0):\n",
    "    print(\"Installation of openvisualizer has failed\")\n",
    "    exit(-7)\n",
    "else:\n",
    "    print(\"Installation ok\")"
   ]
  },
  {
   "cell_type": "code",
   "execution_count": 9,
   "metadata": {},
   "outputs": [
    {
     "name": "stdout",
     "output_type": "stream",
     "text": [
      "Configuration file ....\n",
      "... finished\n"
     ]
    }
   ],
   "source": [
    "#construct the config file\n",
    "file=open(exp_logging_conf, 'w')\n",
    "print(\"Configuration file ....\")\n",
    "\n",
    "try:\n",
    "    os.mkdir(path_exp+\"/logs/\")\n",
    "except :\n",
    "    print(\"Directory {0} already exists\".format(path_exp+\"/logs/\"))\n",
    "    \n",
    "# constant beginning\n",
    "file_start=open(exp_logging_conf+\".start\", 'r')\n",
    "for line in file_start:\n",
    "    file.write(line)\n",
    "file_start.close()\n",
    "\n",
    "file.write(\"[handler_std]\\n\")\n",
    "file.write(\"class=logging.FileHandler\\n\")\n",
    "file.write(\"args=('\"+path_exp+\"/logs/openv-server.log', 'w')\\n\")\n",
    "file.write(\"formatter=std\\n\\n\")\n",
    "\n",
    "file.write(\"[handler_errors]\\n\")\n",
    "file.write(\"class=logging.FileHandler\\n\")\n",
    "file.write(\"args=('\"+path_exp+\"/logs/openv-server-errors.log', 'w')\\n\")\n",
    "file.write(\"level=ERROR\\n\")\n",
    "file.write(\"formatter=std\\n\\n\")\n",
    "\n",
    "file.write(\"[handler_success]\\n\")\n",
    "file.write(\"class=logging.FileHandler\\n\")\n",
    "file.write(\"args=('\"+path_exp+\"/logs/openv-server-success.log', 'w')\\n\")\n",
    "file.write(\"level=SUCCESS\\n\")\n",
    "file.write(\"formatter=std\\n\\n\")\n",
    "\n",
    "file.write(\"[handler_info]\\n\")\n",
    "file.write(\"class=logging.FileHandler\\n\")\n",
    "file.write(\"args=('\"+path_exp+\"/logs/openv-server-info.log', 'w')\\n\")\n",
    "file.write(\"level=INFO\\n\")\n",
    "file.write(\"formatter=std\\n\\n\")\n",
    "\n",
    "file.write(\"[handler_all]\\n\")\n",
    "file.write(\"class=logging.FileHandler\\n\")\n",
    "file.write(\"args=('\"+path_exp+\"/logs/openv-server-all.log', 'w')\\n\")\n",
    "file.write(\"formatter=std\\n\\n\")\n",
    "\n",
    "file.write(\"[handler_html]\\n\")\n",
    "file.write(\"class=logging.FileHandler\\n\")\n",
    "file.write(\"args=('\"+path_exp+\"/logs/openv-server-all.html.log', 'w')\\n\")\n",
    "file.write(\"formatter=console\\n\\n\")\n",
    "\n",
    "\n",
    "#constant end\n",
    "file_end=open(exp_logging_conf+\".end\", 'r')\n",
    "for line in file_end:\n",
    "    file.write(line)\n",
    "file_end.close()\n",
    "\n",
    "#end of the config file\n",
    "file.close()\n",
    "\n",
    "print(\"... finished\")"
   ]
  },
  {
   "cell_type": "code",
   "execution_count": 10,
   "metadata": {},
   "outputs": [
    {
     "name": "stdout",
     "output_type": "stream",
     "text": [
      "sudo openv-server --opentun --wireshark-debug --mqtt-broker 127.0.0.1 -d --fw-path /home/theoleyre/openwsn/openwsn-fw --lconf /home/theoleyre/openwsn/notebook/loggers/logging.conf --iotlab-motes m3-204.grenoble.iot-lab.info m3-213.grenoble.iot-lab.info m3-223.grenoble.iot-lab.info \n",
      "No running openvisualizer process\n",
      "Running openvisualizer in a separated process\n",
      "Process <Process(Process-1, started)> started, pid 7965\n",
      "\u001b[38;5;35m17:04:28\u001b[0m \u001b[1;38;5;31mINFO\u001b[0m opening tun interface\n",
      "ioctl(TUNSETIFF): Device or resource busy\n",
      "\u001b[38;5;35m17:04:28\u001b[0m \u001b[1;38;5;31mINFO\u001b[0m created following virtual interfaces\n",
      "6: tun0: <POINTOPOINT,MULTICAST,NOARP,UP,LOWER_UP> mtu 1500 qdisc fq_codel state UNKNOWN group default qlen 500\n",
      "    link/none \n",
      "    inet6 bbbb::1/64 scope global \n",
      "       valid_lft forever preferred_lft forever\n",
      "    inet6 fe80::1/64 scope link \n",
      "       valid_lft forever preferred_lft forever\n",
      "    inet6 fe80::a73b:e543:20f:85f9/64 scope link stable-privacy \n",
      "       valid_lft forever preferred_lft forever\n",
      "\u001b[38;5;35m17:04:29\u001b[0m \u001b[1;38;5;31mSUCCESS\u001b[0m \u001b[1;38;5;83mm3-204.grenoble.iot-lab.info Ok.\u001b[0m\n",
      "\u001b[38;5;35m17:04:29\u001b[0m \u001b[1;38;5;31mSUCCESS\u001b[0m \u001b[1;38;5;83mm3-213.grenoble.iot-lab.info Ok.\u001b[0m\n",
      "\u001b[38;5;35m17:04:34\u001b[0m \u001b[1;38;5;31mWARNING\u001b[0m \u001b[38;5;166mm3-223.grenoble.iot-lab.info; exit loop\u001b[0m\n",
      "\u001b[38;5;35m17:04:34\u001b[0m \u001b[1;38;5;31mCRITICAL\u001b[0m \u001b[1;38;5;124mcannot attach port m3-223.grenoble.iot-lab.info, stops openvisualizer (pid 8056, 8055)\u001b[0m\n",
      "Killed\n",
      "... Failure\n"
     ]
    }
   ],
   "source": [
    "#construct the command with all the options for openvisualizer\n",
    "openvisualizer_options=\"--opentun --wireshark-debug --mqtt-broker 127.0.0.1 -d --fw-path /home/theoleyre/openwsn/openwsn-fw\"\n",
    "openvisualizer_options=openvisualizer_options+ \" --lconf \" + exp_logging_conf\n",
    "if ( exp_board == \"iot-lab_M3\" ):\n",
    "    cmd=\"sudo openv-server \" + openvisualizer_options + \" --iotlab-motes \"       \n",
    "    for i in range(len(exp_dagroots_list)):    \n",
    "        cmd=cmd + exp_archi + \"-\" + str(exp_dagroots_list[i]) + \".\" + exp_site + \".iot-lab.info \"\n",
    "    for i in range(len(exp_nodes_list)):    \n",
    "        cmd=cmd + exp_archi + \"-\" + str(exp_nodes_list[i]) + \".\" + exp_site + \".iot-lab.info \"\n",
    "    print(cmd)\n",
    "elif ( exp_board == \"python\" ):\n",
    "    cmd=\"sudo openv-server \" + openvisualizer_options + \" --sim \"+ exp_nb_nodes + \" \" + exp_topology\n",
    "\n",
    "# stops the previous process\n",
    "try:\n",
    "    print(process_openvisualizer)\n",
    "    process_openvisualizer.terminate()    \n",
    "except:\n",
    "    print(\"No running openvisualizer process\")\n",
    "    \n",
    "#Running the OV application\n",
    "print(\"Running openvisualizer in a separated process\") \n",
    "process_openvisualizer = multiprocessing.Process(target=run_command, args=(cmd, code_sw_src, ))\n",
    "process_openvisualizer.start()\n",
    "print(\"Process {0} started, pid {1}\".format(process_openvisualizer, os.getpid()))\n"
   ]
  },
  {
   "cell_type": "code",
   "execution_count": null,
   "metadata": {},
   "outputs": [],
   "source": [
    "#wait that openvizualizer is properly initiated\n",
    "cmd=\"openv-client motes\"\n",
    "while True:\n",
    "    process = Popen(cmd, shell=True, stdin=None, stdout=PIPE, stderr=STDOUT, close_fds=True)\n",
    "    output = process.stdout.read()\n",
    "    if \"Connection refused\" not in output:\n",
    "        break\n",
    "    #wait 2 seconds before trying to connect to the server\n",
    "    time.sleep(2)\n",
    "print(\"Openvisualizer seems correctly running\")"
   ]
  },
  {
   "cell_type": "code",
   "execution_count": null,
   "metadata": {},
   "outputs": [],
   "source": [
    "#reboot all the motes (if some have been already selected dagroot for an unkwnon reason)\n",
    "if ( exp_board == \"iot-lab_M3\" ):\n",
    "    for node in exp_dagroots_list:\n",
    "        cmd=\"openv-client root m3-\" + str(node) +  \".\" + exp_site + \".iot-lab.info\"\n",
    "        print(cmd)\n",
    "        process = Popen(cmd, shell=True, stdin=None, stdout=PIPE, stderr=STDOUT, close_fds=True)\n",
    "\n",
    "        output = process.stdout.read()\n",
    "        print(output)\n"
   ]
  },
  {
   "cell_type": "code",
   "execution_count": null,
   "metadata": {},
   "outputs": [],
   "source": [
    "# Configuration: dagroot\n",
    "if ( exp_board == \"iot-lab_M3\" ):\n",
    "    for node in exp_dagroots_list:\n",
    "        cmd=\"openv-client root m3-\" + str(node) +  \".\" + exp_site + \".iot-lab.info\"\n",
    "        print(cmd)\n",
    "        process = Popen(cmd, shell=True, stdin=None, stdout=PIPE, stderr=STDOUT, close_fds=True)\n",
    "\n",
    "        output = process.stdout.read()\n",
    "        print(output)\n",
    "        if \"Ok\"  not in output:\n",
    "            print(\"Error when setting up the dagroot {0}\".format(node))"
   ]
  },
  {
   "cell_type": "code",
   "execution_count": null,
   "metadata": {},
   "outputs": [],
   "source": [
    "#start the web client part \n",
    "cmd=\"openv-client view web --debug ERROR\"\n",
    "print(cmd)\n",
    "process = Popen(cmd, shell=True, stdin=None, stdout=PIPE, stderr=STDOUT, close_fds=True)\n",
    "\n",
    "#print the stdout asynchronously\n",
    "for line in process.stdout:\n",
    "    print(line.rstrip(\"\\n\"))\n",
    "\n",
    "if (process.wait() != 0):\n",
    "    print(\"... Failure\")\n",
    "    exit(-5)\n",
    "else:\n",
    "    print(\"... finished\")"
   ]
  },
  {
   "cell_type": "code",
   "execution_count": null,
   "metadata": {},
   "outputs": [],
   "source": [
    "print(\"Experiment terminated\")"
   ]
  },
  {
   "cell_type": "code",
   "execution_count": null,
   "metadata": {},
   "outputs": [],
   "source": []
  }
 ],
 "metadata": {
  "kernelspec": {
   "display_name": "Python 2",
   "language": "python",
   "name": "python2"
  },
  "language_info": {
   "codemirror_mode": {
    "name": "ipython",
    "version": 2
   },
   "file_extension": ".py",
   "mimetype": "text/x-python",
   "name": "python",
   "nbconvert_exporter": "python",
   "pygments_lexer": "ipython2",
   "version": "2.7.18"
  }
 },
 "nbformat": 4,
 "nbformat_minor": 2
}
