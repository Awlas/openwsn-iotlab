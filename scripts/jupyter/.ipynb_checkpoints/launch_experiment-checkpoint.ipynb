{
 "cells": [
  {
   "cell_type": "code",
   "execution_count": 1,
   "metadata": {},
   "outputs": [],
   "source": [
    "# systems tools\n",
    "import os\n",
    "import shutil\n",
    "import sys\n",
    "import random\n",
    "import time\n",
    "import sys\n",
    "import signal\n",
    "\n",
    "# multiprocess\n",
    "import threading\n",
    "#import psutil\n",
    "\n",
    "#format\n",
    "import string\n",
    "import json"
   ]
  },
  {
   "cell_type": "code",
   "execution_count": 2,
   "metadata": {},
   "outputs": [],
   "source": [
    "#configuration for the experimenal setup (what stays unchanged)\n",
    "def configuration_set():\n",
    "    config = {}\n",
    "    #paths\n",
    "    config['path_initial'] = os.getcwd()\n",
    "    print (\"Inital path: {0}\".format(config['path_initial']))    \n",
    "    config['path_results'] = config['path_initial']+ \"/logs\"\n",
    "        \n",
    "    \n",
    "    # Metadata for experiments\n",
    "    config['user']=\"theoleyr\"\n",
    "    config['exp_duration']=180        # for the iot lab reservation (collection of runs), in minutes\n",
    "    #config['subexp_duration']        # no timeout\n",
    "    config['exp_resume']=True\n",
    "    config['exp_name']=\"owsnccajup\"\n",
    "\n",
    "    # Parameters of the experiment\n",
    "    config['board']=\"iot-lab_M3\"\n",
    "    config['toolchain']=\"armgcc\"\n",
    "    config['archi']=\"m3\"\n",
    "    config['site']=\"strasbourg\"    \n",
    "\n",
    "    #Parameters for this set of experiments\n",
    "    # list of motes\n",
    "    config['nodes_list']=[ 60 , 64 ]\n",
    "    config['dagroots_list']=[ 43 ]\n",
    "\n",
    "    #parameters for the code\n",
    "    config['badmaxrssi'] = 100\n",
    "    config['goodminrssi'] = 100\n",
    "    config['lowestrankfirst'] = 1\n",
    "    config['anycast'] = 1\n",
    "    \n",
    "    #openvisualizer configuration (output + 2 inputs)\n",
    "    config['conf_file']= config['path_initial'] + \"/logs/logging.conf\"\n",
    "    config['conf_file_start']= config['path_initial'] + \"/../loggers/logging_start.conf\"\n",
    "    config['conf_file_end']= config['path_initial'] + \"/../loggers/logging_end.conf\"\n",
    "    \n",
    "    # openvisualizer directory\n",
    "    config['code_sw_src'] = config['path_initial'] + \"/../../openvisualizer/\"\n",
    "    if (os.path.exists(config['code_sw_src']) == False):\n",
    "        print(\"{0} does not exist\".format(config['code_sw_src']))\n",
    "        exit(-4)\n",
    "    config['code_sw_gitversion']=\"e039a05\"\n",
    "\n",
    "    # firmware part\n",
    "    config['code_fw_src']= config['path_initial'] + \"/../../openwsn-fw/\"\n",
    "    if (os.path.exists(config['code_fw_src']) == False):\n",
    "        print(\"{0} does not exist\".format(config['code_fw_src']))\n",
    "        exit(-4)\n",
    "    config['code_fw_gitversion']=\"515eafa7\"\n",
    "    config['code_fw_bin']=config['code_fw_src']+\"build/iot-lab_M3_armgcc/projects/common/03oos_openwsn_prog\"\n",
    "    \n",
    "    #Only in simulation mode!\n",
    "    if (config['board'] == \"python\"):\n",
    "        config['nbnodes']=\"5\"\n",
    "        config['topology']=\"---load-topology \" + config['path_initial'] + \"topologies/topology-3nodes.json\"\n",
    "\n",
    "    return(config)"
   ]
  },
  {
   "cell_type": "code",
   "execution_count": 3,
   "metadata": {},
   "outputs": [
    {
     "name": "stdout",
     "output_type": "stream",
     "text": [
      "Inital path: /home/theoleyre/openwsn/scripts/jupyter\n"
     ]
    }
   ],
   "source": [
    "config = configuration_set()\n",
    "\n",
    "#custom libraries\n",
    "sys.path.insert(0, config['path_initial']+ \"/../\")\n",
    "import iotlabowsn"
   ]
  },
  {
   "cell_type": "code",
   "execution_count": null,
   "metadata": {},
   "outputs": [],
   "source": [
    "# killall the children (openweb + openvisualizer)\n",
    "\n",
    "iotlabowsn.run_command(\"sudo killall python\")\n",
    "iotlabowsn.run_command(\"sudo killall /bin/sh\")\n",
    "\n",
    "print(\"Clean start: all the OV and openweb server have been killed\")"
   ]
  },
  {
   "cell_type": "code",
   "execution_count": 4,
   "metadata": {},
   "outputs": [],
   "source": [
    "#prints the headers of a section\n",
    "def print_header(msg):\n",
    "    print(\"\\n\\n---------------------------------------------\")\n",
    "    print(\"     \" + msg)\n",
    "    print(\"---------------------------------------------\\n\\n\")\n"
   ]
  },
  {
   "cell_type": "code",
   "execution_count": 5,
   "metadata": {},
   "outputs": [
    {
     "name": "stdout",
     "output_type": "stream",
     "text": [
      "\n",
      "\n",
      "---------------------------------------------\n",
      "     Initialization\n",
      "---------------------------------------------\n",
      "\n",
      "\n",
      "Install the current version of Openvisualizer\n",
      "DEPRECATION: Python 2.7 reached the end of its life on January 1st, 2020. Please upgrade your Python as Python 2.7 is no longer maintained. pip 21.0 will drop support for Python 2.7 in January 2021. More details about Python 2 support in pip can be found at https://pip.pypa.io/en/latest/development/release-process/#python-2-support pip 21.0 will remove support for this functionality.\n",
      "\n",
      "Installation ok\n"
     ]
    }
   ],
   "source": [
    "# ----- INIT\n",
    "\n",
    "print_header(\"Initialization\")\n",
    "#config = configuration_set()\n",
    "iotlabowsn.openvisualizer_install(config)"
   ]
  },
  {
   "cell_type": "code",
   "execution_count": 6,
   "metadata": {},
   "outputs": [
    {
     "name": "stdout",
     "output_type": "stream",
     "text": [
      "\n",
      "\n",
      "---------------------------------------------\n",
      "     Reservation (experiment)\n",
      "---------------------------------------------\n",
      "\n",
      "\n",
      "Verification that the list of nodes is correct for the exp_id 264032\n",
      "  -> m3-43.strasbourg.iot-lab.info\n",
      "     43 is a dagroot (in [43])\n",
      "  -> m3-64.strasbourg.iot-lab.info\n",
      "     64 is a node (in [60, 64])\n",
      "  -> m3-60.strasbourg.iot-lab.info\n",
      "     60 is a node (in [60, 64])\n",
      "Resume the experiment id 264032\n",
      "iotlab-experiment wait -i 264032\n",
      "\"Running\"\n",
      "\n"
     ]
    }
   ],
   "source": [
    "# ---- RESERVATION /RESUME EXPERIMENT ----\n",
    "print_header(\"Reservation (experiment)\")\n",
    "if ( config['exp_resume'] == True):\n",
    "    exp_id = iotlabowsn.get_running_id(config);\n",
    "if exp_id is not None:\n",
    "    print(\"Resume the experiment id {0}\".format(exp_id))\n",
    "else:\n",
    "    exp_id = iotlabowsn.reserve(config)\n",
    "iotlabowsn.wait_running(exp_id)\n"
   ]
  },
  {
   "cell_type": "code",
   "execution_count": 7,
   "metadata": {},
   "outputs": [
    {
     "name": "stdout",
     "output_type": "stream",
     "text": [
      "\n",
      "\n",
      "---------------------------------------------\n",
      "     Compilation\n",
      "---------------------------------------------\n",
      "\n",
      "\n",
      "scons board=iot-lab_M3 toolchain=armgcc  boardopt=printf modules=coap,udp apps=cjoin,cexample debugopt=CCA,schedule  scheduleopt=anycast,lowestrankfirst  stackcfg=badmaxrssi:100,goodminrssi:100  oos_openwsn \n",
      "OUT= scons: Reading SConscript files ...\n",
      "\n",
      " ___                 _ _ _  ___  _ _ \n",
      "| . | ___  ___ ._ _ | | | |/ __>| \\ |\n",
      "| | || . \\/ ._>| ' || | | |\\__ \\|   |\n",
      "`___'|  _/\\___.|_|_||__/_/ <___/|_\\_|\n",
      "     |_|                  openwsn.org\n",
      "\n",
      "scons: done reading SConscript files.\n",
      "scons: Building targets ...\n",
      "arm-none-eabi-size --format=berkeley -d --totals build/iot-lab_M3_armgcc/projects/common/03oos_openwsn_prog\n",
      "   text\t   data\t    bss\t    dec\t    hex\tfilename\n",
      " 146348\t    208\t  65328\t 211884\t  33bac\tbuild/iot-lab_M3_armgcc/projects/common/03oos_openwsn_prog\n",
      " 146348\t    208\t  65328\t 211884\t  33bac\t(TOTALS)\n",
      "scons: done building targets.\n",
      "\n",
      "ERR= \n",
      "\n",
      "\n",
      "---------------------------------------------\n",
      "     Flashing\n",
      "---------------------------------------------\n",
      "\n",
      "\n",
      "iotlab-node --flash /home/theoleyre/openwsn/scripts/jupyter/../../openwsn-fw/build/iot-lab_M3_armgcc/projects/common/03oos_openwsn_prog -i 264032\n",
      "m3-43.strasbourg.iot-lab.info: ok\n",
      "m3-60.strasbourg.iot-lab.info: ok\n",
      "m3-64.strasbourg.iot-lab.info: ok\n"
     ]
    }
   ],
   "source": [
    "# ---- COMPIL + FLASHING----\n",
    "\n",
    "print_header(\"Compilation\")\n",
    "iotlabowsn.compilation_firmware(config)\n",
    "\n",
    "print_header(\"Flashing\")\n",
    "iotlabowsn.flashing_motes(exp_id, config)\n"
   ]
  },
  {
   "cell_type": "code",
   "execution_count": 8,
   "metadata": {},
   "outputs": [
    {
     "name": "stdout",
     "output_type": "stream",
     "text": [
      "\n",
      "\n",
      "---------------------------------------------\n",
      "     Openvizualiser\n",
      "---------------------------------------------\n",
      "\n",
      "\n",
      "python /usr/local/bin/openv-server --opentun --wireshark-debug --mqtt-broker 127.0.0.1 -d --fw-path /home/theoleyre/openwsn/openwsn-fw --lconf /home/theoleyre/openwsn/scripts/jupyter/logs/logging.conf --iotlab-motes m3-43.strasbourg.iot-lab.info m3-60.strasbourg.iot-lab.info m3-64.strasbourg.iot-lab.info \n",
      "No running openvisualizer process\n",
      "Running openvisualizer in a separated process\n",
      "Thread <Thread(Thread-4, started 140700326795008)> started\n",
      "Openvisualizer seems correctly running\n"
     ]
    }
   ],
   "source": [
    "# ---- OpenVisualizer ----\n",
    "\n",
    "print_header(\"Openvizualiser\")\n",
    "iotlabowsn.openvisualizer_create_conf_file(config)\n",
    "t_openvisualizer = iotlabowsn.openvisualizer_start(config)"
   ]
  },
  {
   "cell_type": "code",
   "execution_count": 9,
   "metadata": {},
   "outputs": [
    {
     "name": "stdout",
     "output_type": "stream",
     "text": [
      "\n",
      "\n",
      "---------------------------------------------\n",
      "     Openweb server\n",
      "---------------------------------------------\n",
      "\n",
      "\n",
      "python /usr/local/bin/openv-client view web --debug ERROR\n",
      "Running openweb server in a separated thread\n",
      "Thread <Thread(Thread-5, started 140699974498048)> started, pid 24077\n"
     ]
    }
   ],
   "source": [
    "# ---- Openweb server (optional, for debuging via a web interface) ----\n",
    "\n",
    "print_header(\"Openweb server\")\n",
    "t_openwebserver = iotlabowsn.openwebserver_start(config)"
   ]
  },
  {
   "cell_type": "code",
   "execution_count": 10,
   "metadata": {},
   "outputs": [
    {
     "name": "stdout",
     "output_type": "stream",
     "text": [
      "\n",
      "\n",
      "---------------------------------------------\n",
      "     Configure Motes\n",
      "---------------------------------------------\n",
      "\n",
      "\n",
      "iotlab-node --reset -i 264032\n",
      "OUT= {\n",
      "    \"0\": [\n",
      "        \"m3-43.strasbourg.iot-lab.info\", \n",
      "        \"m3-60.strasbourg.iot-lab.info\", \n",
      "        \"m3-64.strasbourg.iot-lab.info\"\n",
      "    ]\n",
      "}\n",
      "\n",
      "ERR= \n",
      "openv-client root m3-43.strasbourg.iot-lab.info\n",
      "OUT= Ok!\n",
      "\n",
      "ERR= \n"
     ]
    }
   ],
   "source": [
    "# ---- Boots the motes ----\n",
    "\n",
    "print_header(\"Configure Motes\")\n",
    "iotlabowsn.mote_boot(exp_id)\n",
    "iotlabowsn.dagroot_set(config)"
   ]
  },
  {
   "cell_type": "code",
   "execution_count": 11,
   "metadata": {},
   "outputs": [
    {
     "name": "stdout",
     "output_type": "stream",
     "text": [
      "\n",
      "\n",
      "---------------------------------------------\n",
      "     Execution\n",
      "---------------------------------------------\n",
      "\n",
      "\n",
      "gpid me: 24077\n",
      "pid me: 24077\n",
      "nb threads = 7\n"
     ]
    }
   ],
   "source": [
    "# ---- Exp running ----\n",
    "\n",
    "print_header(\"Execution\")\n",
    "print(\"gpid me: {0}\".format(os.getpgid(os.getpid())))\n",
    "print(\"pid me: {0}\".format(os.getpid()))\n",
    "print(\"nb threads = {0}\".format(threading.active_count()))\n"
   ]
  },
  {
   "cell_type": "code",
   "execution_count": null,
   "metadata": {},
   "outputs": [],
   "source": []
  },
  {
   "cell_type": "code",
   "execution_count": null,
   "metadata": {},
   "outputs": [],
   "source": [
    "# killall the children (openweb + openvisualizer)\n",
    "\n",
    "iotlabowsn.run_command(\"sudo killall python\")\n",
    "iotlabowsn.run_command(\"sudo killall /bin/sh\")\n",
    "\n",
    "print(\"Clean end: all the processes have been killed\")"
   ]
  },
  {
   "cell_type": "code",
   "execution_count": null,
   "metadata": {},
   "outputs": [],
   "source": [
    "\n"
   ]
  }
 ],
 "metadata": {
  "kernelspec": {
   "display_name": "Python 2",
   "language": "python",
   "name": "python2"
  },
  "language_info": {
   "codemirror_mode": {
    "name": "ipython",
    "version": 2
   },
   "file_extension": ".py",
   "mimetype": "text/x-python",
   "name": "python",
   "nbconvert_exporter": "python",
   "pygments_lexer": "ipython2",
   "version": "2.7.18"
  }
 },
 "nbformat": 4,
 "nbformat_minor": 2
}
