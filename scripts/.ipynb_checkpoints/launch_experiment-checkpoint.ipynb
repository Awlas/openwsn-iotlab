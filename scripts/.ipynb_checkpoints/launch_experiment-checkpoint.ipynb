{
 "cells": [
  {
   "cell_type": "code",
   "execution_count": 193,
   "metadata": {},
   "outputs": [
    {
     "name": "stdout",
     "output_type": "stream",
     "text": [
      "Inital path: /home/theoleyre/openwsn/scripts\n",
      "Random suffix: fUcwvoVGEU \n"
     ]
    }
   ],
   "source": [
    "import string\n",
    "import random\n",
    "import os \n",
    "import subprocess\n",
    "from subprocess import Popen, PIPE, STDOUT\n",
    "import sys\n",
    "import json, sys\n",
    "\n",
    "#Paths\n",
    "path_initial = os.getcwd()\n",
    "print (\"Inital path: {0}\".format(path_initial))\n",
    "\n",
    "#Random suffix for tmp filenames\n",
    "letters = string.ascii_letters\n",
    "random_suffix = ''.join(random.choice(letters) for i in range(10))\n",
    "print(\"Random suffix: {0} \".format(random_suffix))\n"
   ]
  },
  {
   "cell_type": "code",
   "execution_count": 194,
   "metadata": {},
   "outputs": [],
   "source": [
    "# Metadata for experiments\n",
    "iotlab_user=\"theoleyr\"\n",
    "iotlab_exp_name=\"owsn-\" + random_suffix \n",
    "iotlab_exp_duration=\"180\"\n",
    "\n",
    "# Parameters of the experiment\n",
    "exp_board=\"iot-lab_M3\"\n",
    "exp_toolchain=\"armgcc\"\n",
    "exp_archi=\"m3\"\n",
    "exp_site=\"grenoble\"\n",
    "exp_nodes_list=[ 213 , 223 ]\n",
    "exp_dagroot_list=[ 204 ]\n",
    "\n",
    "#code (git repositories)\n",
    "code_sw_src=path_current+\"/../openvisualizer/\"\n",
    "code_sw_gitversion=\"e039a05\"\n",
    "code_fw_src=path_current+\"/../openwsn-fw/\"\n",
    "code_fw_gitversion=\"515eafa7\"\n",
    "code_fw_bin=code_fw_src+\"build/iot-lab_M3_armgcc/projects/common/03oos_openwsn_prog\""
   ]
  },
  {
   "cell_type": "code",
   "execution_count": 195,
   "metadata": {},
   "outputs": [
    {
     "name": "stdout",
     "output_type": "stream",
     "text": [
      "scons: Reading SConscript files ...\n",
      "\n",
      " ___                 _ _ _  ___  _ _ \n",
      "| . | ___  ___ ._ _ | | | |/ __>| \\ |\n",
      "| | || . \\/ ._>| ' || | | |\\__ \\|   |\n",
      "`___'|  _/\\___.|_|_||__/_/ <___/|_\\_|\n",
      "     |_|                  openwsn.org\n",
      "\n",
      "scons: done reading SConscript files.\n",
      "scons: Building targets ...\n",
      "arm-none-eabi-size --format=berkeley -d --totals build/iot-lab_M3_armgcc/projects/common/03oos_openwsn_prog\n",
      "   text\t   data\t    bss\t    dec\t    hex\tfilename\n",
      " 146348\t    208\t  65328\t 211884\t  33bac\tbuild/iot-lab_M3_armgcc/projects/common/03oos_openwsn_prog\n",
      " 146348\t    208\t  65328\t 211884\t  33bac\t(TOTALS)\n",
      "scons: done building targets.\n",
      "\n",
      "Compilation finished\n"
     ]
    }
   ],
   "source": [
    "#Compilation\n",
    "\n",
    "cmd=\"scons board=\" + board + \" toolchain=\" + toolchain + \" \" \n",
    "cmd=cmd +\" boardopt=printf modules=coap,udp apps=cjoin,cexample debugopt=CCA,schedule \"\n",
    "cmd=cmd + \" scheduleopt=anycast,lowestrankfirst \"\n",
    "badmaxrssi=\"100\"\n",
    "goodminrssi=\"100\"\n",
    "cmd=cmd + \" stackcfg=badmaxrssi:\"+badmaxrssi+\",goodminrssi:\"+goodminrssi + \" \"\n",
    "cmd=cmd + \" oos_openwsn \"\n",
    "process = Popen(cmd, shell=True, stdin=PIPE, stdout=PIPE, stderr=STDOUT, close_fds=True, cwd=code_fw_src)\n",
    "output = process.stdout.read()\n",
    "print(output)\n",
    "if (process.wait() != 0):\n",
    "    print(\"Compilation has failed\")\n",
    "    exit(-5)\n",
    "else:\n",
    "    print(\"Compilation finished\")"
   ]
  },
  {
   "cell_type": "code",
   "execution_count": 196,
   "metadata": {},
   "outputs": [
    {
     "name": "stdout",
     "output_type": "stream",
     "text": [
      "The site of this already running experiment has been identified to grenoble\n",
      "Running nodes:\n",
      "  -> m3-213.grenoble.iot-lab.info\n",
      "  -> m3-223.grenoble.iot-lab.info\n",
      "  -> m3-204.grenoble.iot-lab.info\n",
      "Be careful: this list must be equal to:\n",
      "  -> dagroot(s): [204]\n",
      "  -> node(s): [213, 223]\n",
      "Experiment id running: 262657\n"
     ]
    }
   ],
   "source": [
    "#Experiment reservation (if none exists)\n",
    "from subprocess import Popen, PIPE, STDOUT\n",
    "cmd = 'iotlab-experiment get -e'\n",
    "process = Popen(cmd, shell=True, stdin=PIPE, stdout=PIPE, stderr=STDOUT, close_fds=True)\n",
    "output = process.stdout.read()\n",
    "infos=json.loads(output)\n",
    "  \n",
    "#pick the last (most recent) experiment\n",
    "try:\n",
    "    exp_id_running=infos[\"Running\"][-1]\n",
    "    \n",
    "    #Site identification (if the experiment is already running)\n",
    "    cmd=\"iotlab-experiment get -i \" + str(exp_id_running) + \" -n\"\n",
    "    process = Popen(cmd, shell=True, stdin=PIPE, stdout=PIPE, stderr=STDOUT, close_fds=True)\n",
    "    output = process.stdout.read()\n",
    "    \n",
    "    infos=json.loads(output)\n",
    "    exp_site=infos[\"items\"][0][\"site\"]\n",
    "    print(\"The site of this already running experiment has been identified to {0}\".format(exp_site))\n",
    "\n",
    "    #nodes identification \n",
    "    print(\"Running nodes:\")\n",
    "    for node in infos[\"items\"]:\n",
    "        print(\"  -> {0}\".format(node[\"network_address\"]))\n",
    "    print(\"Be careful: this list must be equal to:\")\n",
    "    print(\"  -> dagroot(s): {0}\".format(exp_dagroot_list))\n",
    "    print(\"  -> node(s): {0}\".format(exp_nodes_list))\n",
    "   \n",
    "except:\n",
    "    print(\"No experiment is running, start a novel one ...\")\n",
    "    exp_id_running=0\n",
    "    cmd= \"iotlab-experiment submit \" + \" -n \"+iotlab_exp_name + \" -d \"+ iotlab_exp_duration + \" -l \"+ exp_site \n",
    "    cmd= cmd + \",\" + exp_archi +   \",\" + exp_nodes_list + \"+\" + exp_dagroot\n",
    "    process = Popen(cmd, shell=True, stdin=PIPE, stdout=PIPE, stderr=STDOUT, close_fds=True)\n",
    "    output = process.stdout.read()\n",
    "    infos=json.loads(output)\n",
    "    exp_id_running=infos[\"id\"]\n",
    "    \n",
    "\n",
    "    \n",
    "print(\"Experiment id running: {0}\".format(exp_id_running))     "
   ]
  },
  {
   "cell_type": "code",
   "execution_count": 197,
   "metadata": {},
   "outputs": [
    {
     "name": "stdout",
     "output_type": "stream",
     "text": [
      "Waiting that experiment 262657 gets in state Running\n",
      "\"Running\"\n",
      "\n"
     ]
    }
   ],
   "source": [
    "# waiting for the running mode\n",
    "cmd=\"iotlab-experiment wait -i \"+ str(exp_id_running)\n",
    "process = Popen(cmd, shell=True, stdin=PIPE, stdout=PIPE, stderr=STDOUT, close_fds=True)\n",
    "output = process.stdout.read()\n",
    "print(output)    "
   ]
  },
  {
   "cell_type": "code",
   "execution_count": 198,
   "metadata": {},
   "outputs": [
    {
     "name": "stdout",
     "output_type": "stream",
     "text": [
      "Flashing motes...\n",
      "iotlab-node --flash /home/theoleyre/openwsn/scripts/../openwsn-fw/build/iot-lab_M3_armgcc/projects/common/03oos_openwsn_prog -i 262657\n",
      "m3-204.grenoble.iot-lab.info: ok\n",
      "m3-213.grenoble.iot-lab.info: ok\n",
      "m3-223.grenoble.iot-lab.info: ok\n"
     ]
    }
   ],
   "source": [
    "#Flashing the devices\n",
    "print(\"Flashing motes...\")\n",
    "cmd=\"iotlab-node --flash \" + code_fw_bin + \" -i \" + str(exp_id_running)\n",
    "print(cmd)\n",
    "process = Popen(cmd, shell=True, stdin=PIPE, stdout=PIPE, stderr=STDOUT, close_fds=True)\n",
    "output = process.stdout.read()\n",
    "infos=json.loads(output)\n",
    "ok=True\n",
    "if \"0\" in infos:\n",
    "    for info in infos[\"0\"]:\n",
    "        print(\"{0}: ok\".format(info))\n",
    "\n",
    "if \"1\" in infos:\n",
    "    for info in infos[\"1\"]:\n",
    "        print(\"{0}: ko\".format(info))\n",
    "        ok = False\n",
    "if ( ok == False ):\n",
    "    print(\"Some motes have not been flashed correctly, stop now\")\n",
    "    exit(6)\n"
   ]
  },
  {
   "cell_type": "code",
   "execution_count": 199,
   "metadata": {},
   "outputs": [
    {
     "name": "stdout",
     "output_type": "stream",
     "text": [
      "Install the current version of Openvisualizer\n",
      "DEPRECATION: Python 2.7 reached the end of its life on January 1st, 2020. Please upgrade your Python as Python 2.7 is no longer maintained. pip 21.0 will drop support for Python 2.7 in January 2021. More details about Python 2 support in pip can be found at https://pip.pypa.io/en/latest/development/release-process/#python-2-support pip 21.0 will remove support for this functionality.\n",
      "\n",
      "Installation ok\n"
     ]
    }
   ],
   "source": [
    "#Install openvisualizer\n",
    "print(\"Install the current version of Openvisualizer\")\n",
    "cmd=\"sudo pip install -e .\"\n",
    "process = Popen(cmd, shell=True, stdin=None, stdout=None, stderr=PIPE, close_fds=True, cwd=code_sw_src)\n",
    "output = process.stderr.read()\n",
    "print(output)\n",
    "if (process.wait() != 0):\n",
    "    print(\"Installation of openvisualizer has failed\")\n",
    "    exit(-7)\n",
    "else:\n",
    "    print(\"Installation ok\")"
   ]
  },
  {
   "cell_type": "code",
   "execution_count": null,
   "metadata": {},
   "outputs": [],
   "source": [
    "#Run openvisualizer\n",
    "openvisualizer_options=\"--opentun --wireshark-debug --mqtt-broker 127.0.0.1 -d --fw-path /home/theoleyre/openwsn/openwsn-fw --lconf $REP_CURRENT/loggers/logging.conf\"\n",
    "if (board == \"iot-lab\" ):\n",
    "   cmd=\"openv-server \" + openvisualizer_options + \" --iotlab-motes \"\n",
    "   for node in exp_dagroots_list:\n",
    "        cmd=cmd + exp_archi + \".\" + node + \".\" + exp_site + \".iot-lab.info\"\n",
    "   for node in exp_nodes_list:\n",
    "        cmd=cmd + exp_archi + \".\" + node + \".\" + exp_site + \".iot-lab.info\"\n",
    "   done\n",
    "   #run in background\n",
    "   CMD=\"$CMD\""
   ]
  },
  {
   "cell_type": "code",
   "execution_count": null,
   "metadata": {},
   "outputs": [],
   "source": []
  }
 ],
 "metadata": {
  "kernelspec": {
   "display_name": "Python 2",
   "language": "python",
   "name": "python2"
  },
  "language_info": {
   "codemirror_mode": {
    "name": "ipython",
    "version": 2
   },
   "file_extension": ".py",
   "mimetype": "text/x-python",
   "name": "python",
   "nbconvert_exporter": "python",
   "pygments_lexer": "ipython2",
   "version": "2.7.18"
  }
 },
 "nbformat": 4,
 "nbformat_minor": 2
}
